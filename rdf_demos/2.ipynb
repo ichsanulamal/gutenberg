{
 "cells": [
  {
   "cell_type": "code",
   "execution_count": 1,
   "metadata": {},
   "outputs": [],
   "source": [
    "import rdflib"
   ]
  },
  {
   "cell_type": "code",
   "execution_count": 2,
   "metadata": {},
   "outputs": [],
   "source": [
    "g = rdflib.Graph()\n",
    "g.parse('https://dbpedia.org/resource/Python_(programming_language)')"
   ]
  },
  {
   "cell_type": "code",
   "execution_count": 4,
   "metadata": {},
   "outputs": [
    {
     "name": "stdout",
     "output_type": "stream",
     "text": [
      "789\n"
     ]
    }
   ],
   "source": [
    "print(len(g))"
   ]
  },
  {
   "cell_type": "code",
   "execution_count": 5,
   "metadata": {},
   "outputs": [
    {
     "name": "stdout",
     "output_type": "stream",
     "text": [
      " Volume in drive C has no label.\n",
      " Volume Serial Number is 8849-25CA\n",
      "\n",
      " Directory of c:\\Users\\ichsan\\Documents\\proj\\gitenberg\\rdf_demos\n",
      "\n",
      "04/10/2023  09:50 PM    <DIR>          .\n",
      "04/10/2023  12:48 PM    <DIR>          ..\n",
      "04/10/2023  01:47 PM           176,337 1.ipynb\n",
      "04/10/2023  09:52 PM             2,407 2.ipynb\n",
      "04/10/2023  09:50 PM               794 example.xml\n",
      "               3 File(s)        179,538 bytes\n",
      "               2 Dir(s)  13,350,875,136 bytes free\n"
     ]
    }
   ],
   "source": [
    "%ls"
   ]
  },
  {
   "cell_type": "code",
   "execution_count": 6,
   "metadata": {},
   "outputs": [
    {
     "data": {
      "text/plain": [
       "<Graph identifier=N941218b99aab4530ae5b5dd98d6c8902 (<class 'rdflib.graph.Graph'>)>"
      ]
     },
     "execution_count": 6,
     "metadata": {},
     "output_type": "execute_result"
    }
   ],
   "source": [
    "h = rdflib.Graph()\n",
    "format_ = rdflib.util.guess_format('example.xml')\n",
    "h.parse('example.xml', format=format_)"
   ]
  },
  {
   "cell_type": "code",
   "execution_count": 7,
   "metadata": {},
   "outputs": [
    {
     "name": "stdout",
     "output_type": "stream",
     "text": [
      "Graph h has 8 facts\n",
      "@prefix foaf: <http://xmlns.com/foaf/0.1/> .\n",
      "@prefix xsd: <http://www.w3.org/2001/XMLSchema#> .\n",
      "\n",
      "<http://example.org/mason> a foaf:Person ;\n",
      "    foaf:mbox <mailto:mason@example.org> ;\n",
      "    foaf:name \"Mason Carter\" ;\n",
      "    foaf:nick \"mason\"@en .\n",
      "\n",
      "<http://example.org/shyla> a foaf:Person ;\n",
      "    foaf:mbox <mailto:shyla@example.org> ;\n",
      "    foaf:name \"Shyla Sharples\" ;\n",
      "    foaf:nick \"shyla\"^^xsd:string .\n",
      "\n",
      "\n"
     ]
    }
   ],
   "source": [
    "print(f'Graph h has {len(h)} facts')\n",
    "print(h.serialize())"
   ]
  },
  {
   "cell_type": "code",
   "execution_count": 9,
   "metadata": {},
   "outputs": [
    {
     "name": "stdout",
     "output_type": "stream",
     "text": [
      "(rdflib.term.URIRef('http://example.org/mason'), rdflib.term.URIRef('http://xmlns.com/foaf/0.1/nick'), rdflib.term.Literal('mason', lang='en'))\n",
      "(rdflib.term.URIRef('http://example.org/shyla'), rdflib.term.URIRef('http://xmlns.com/foaf/0.1/nick'), rdflib.term.Literal('shyla', datatype=rdflib.term.URIRef('http://www.w3.org/2001/XMLSchema#string')))\n",
      "(rdflib.term.URIRef('http://example.org/mason'), rdflib.term.URIRef('http://www.w3.org/1999/02/22-rdf-syntax-ns#type'), rdflib.term.URIRef('http://xmlns.com/foaf/0.1/Person'))\n",
      "(rdflib.term.URIRef('http://example.org/mason'), rdflib.term.URIRef('http://xmlns.com/foaf/0.1/name'), rdflib.term.Literal('Mason Carter'))\n",
      "(rdflib.term.URIRef('http://example.org/mason'), rdflib.term.URIRef('http://xmlns.com/foaf/0.1/mbox'), rdflib.term.URIRef('mailto:mason@example.org'))\n",
      "(rdflib.term.URIRef('http://example.org/shyla'), rdflib.term.URIRef('http://xmlns.com/foaf/0.1/name'), rdflib.term.Literal('Shyla Sharples'))\n",
      "(rdflib.term.URIRef('http://example.org/shyla'), rdflib.term.URIRef('http://xmlns.com/foaf/0.1/mbox'), rdflib.term.URIRef('mailto:shyla@example.org'))\n",
      "(rdflib.term.URIRef('http://example.org/shyla'), rdflib.term.URIRef('http://www.w3.org/1999/02/22-rdf-syntax-ns#type'), rdflib.term.URIRef('http://xmlns.com/foaf/0.1/Person'))\n"
     ]
    }
   ],
   "source": [
    "for triples in h:\n",
    "    print(triples)"
   ]
  },
  {
   "cell_type": "code",
   "execution_count": 10,
   "metadata": {},
   "outputs": [
    {
     "name": "stdout",
     "output_type": "stream",
     "text": [
      "http://example.org/mason http://xmlns.com/foaf/0.1/nick mason\n",
      "http://example.org/shyla http://xmlns.com/foaf/0.1/nick shyla\n",
      "http://example.org/mason http://www.w3.org/1999/02/22-rdf-syntax-ns#type http://xmlns.com/foaf/0.1/Person\n",
      "http://example.org/mason http://xmlns.com/foaf/0.1/name Mason Carter\n",
      "http://example.org/mason http://xmlns.com/foaf/0.1/mbox mailto:mason@example.org\n",
      "http://example.org/shyla http://xmlns.com/foaf/0.1/name Shyla Sharples\n",
      "http://example.org/shyla http://xmlns.com/foaf/0.1/mbox mailto:shyla@example.org\n",
      "http://example.org/shyla http://www.w3.org/1999/02/22-rdf-syntax-ns#type http://xmlns.com/foaf/0.1/Person\n"
     ]
    }
   ],
   "source": [
    "for s, p, o in h:\n",
    "    print(s, p, o)"
   ]
  },
  {
   "cell_type": "code",
   "execution_count": 13,
   "metadata": {},
   "outputs": [
    {
     "name": "stdout",
     "output_type": "stream",
     "text": [
      "@prefix foaf: <http://xmlns.com/foaf/0.1/> .\n",
      "@prefix xsd: <http://www.w3.org/2001/XMLSchema#> .\n",
      "\n",
      "<http://example.org/mason> a foaf:Person ;\n",
      "    foaf:mbox <mailto:mason@example.org> ;\n",
      "    foaf:name \"Mason Carter\" ;\n",
      "    foaf:nick \"mason\"@en .\n",
      "\n",
      "<http://example.org/shyla> a foaf:Person ;\n",
      "    foaf:mbox <mailto:shyla@example.org> ;\n",
      "    foaf:name \"Shyla Sharples\" ;\n",
      "    foaf:nick \"shyla\"^^xsd:string .\n",
      "\n",
      "\n"
     ]
    }
   ],
   "source": [
    "print(h.serialize(format='ttl'))"
   ]
  },
  {
   "cell_type": "code",
   "execution_count": 14,
   "metadata": {},
   "outputs": [
    {
     "name": "stderr",
     "output_type": "stream",
     "text": [
      "c:\\ProgramData\\Anaconda3\\lib\\site-packages\\rdflib\\plugins\\serializers\\nt.py:40: UserWarning: NTSerializer always uses UTF-8 encoding. Given encoding was: None\n",
      "  warnings.warn(\n"
     ]
    },
    {
     "data": {
      "text/plain": [
       "<Graph identifier=N941218b99aab4530ae5b5dd98d6c8902 (<class 'rdflib.graph.Graph'>)>"
      ]
     },
     "execution_count": 14,
     "metadata": {},
     "output_type": "execute_result"
    }
   ],
   "source": [
    "h.serialize('example.nt', format='nt')"
   ]
  },
  {
   "cell_type": "code",
   "execution_count": 18,
   "metadata": {},
   "outputs": [
    {
     "name": "stderr",
     "output_type": "stream",
     "text": [
      "UsageError: Line magic function `%type` not found.\n"
     ]
    }
   ],
   "source": [
    "%type example.nt"
   ]
  }
 ],
 "metadata": {
  "kernelspec": {
   "display_name": "base",
   "language": "python",
   "name": "python3"
  },
  "language_info": {
   "codemirror_mode": {
    "name": "ipython",
    "version": 3
   },
   "file_extension": ".py",
   "mimetype": "text/x-python",
   "name": "python",
   "nbconvert_exporter": "python",
   "pygments_lexer": "ipython3",
   "version": "3.8.8"
  },
  "orig_nbformat": 4
 },
 "nbformat": 4,
 "nbformat_minor": 2
}
